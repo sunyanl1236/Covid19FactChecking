{
 "metadata": {
  "language_info": {
   "codemirror_mode": {
    "name": "ipython",
    "version": 3
   },
   "file_extension": ".py",
   "mimetype": "text/x-python",
   "name": "python",
   "nbconvert_exporter": "python",
   "pygments_lexer": "ipython3",
   "version": "3.8.3-final"
  },
  "orig_nbformat": 2,
  "kernelspec": {
   "name": "python3",
   "display_name": "Python 3"
  }
 },
 "nbformat": 4,
 "nbformat_minor": 2,
 "cells": [
  {
   "cell_type": "code",
   "execution_count": 22,
   "metadata": {},
   "outputs": [],
   "source": [
    "import pandas as pd\n",
    "import string\n",
    "from collections import Counter"
   ]
  },
  {
   "cell_type": "code",
   "execution_count": 39,
   "metadata": {},
   "outputs": [
    {
     "output_type": "stream",
     "name": "stdout",
     "text": [
      "can y all please just follow the government s instructions so we can knock this covid 19 out and be done   i feel like a kindergartner that keeps losing more recess time because one or two kids can t follow directions \n"
     ]
    },
    {
     "output_type": "execute_result",
     "data": {
      "text/plain": [
       "{'can': 3,\n",
       " 'y': 1,\n",
       " 'all': 1,\n",
       " 'please': 1,\n",
       " 'just': 1,\n",
       " 'follow': 2,\n",
       " 'the': 1,\n",
       " 'government': 1,\n",
       " 's': 1,\n",
       " 'instructions': 1,\n",
       " 'so': 1,\n",
       " 'we': 1,\n",
       " 'knock': 1,\n",
       " 'this': 1,\n",
       " 'covid': 1,\n",
       " '19': 1,\n",
       " 'out': 1,\n",
       " 'and': 1,\n",
       " 'be': 1,\n",
       " 'done': 1,\n",
       " 'i': 1,\n",
       " 'feel': 1,\n",
       " 'like': 1,\n",
       " 'a': 1,\n",
       " 'kindergartner': 1,\n",
       " 'that': 1,\n",
       " 'keeps': 1,\n",
       " 'losing': 1,\n",
       " 'more': 1,\n",
       " 'recess': 1,\n",
       " 'time': 1,\n",
       " 'because': 1,\n",
       " 'one': 1,\n",
       " 'or': 1,\n",
       " 'two': 1,\n",
       " 'kids': 1,\n",
       " 't': 1,\n",
       " 'directions': 1}"
      ]
     },
     "metadata": {},
     "execution_count": 39
    }
   ],
   "source": [
    "# read specific columns from csv file\n",
    "df = pd.read_csv(\"covid_training.csv\", usecols = ['tweet_id','text', 'q1_label'])\n",
    "# print(df)\n",
    "\n",
    "# read data in each col\n",
    "# for i, col in df.iterrows():\n",
    "#     print(col['tweet_id'])\n",
    "\n",
    "# read one data for test and change it to lowercase\n",
    "text = df['text'][2].lower()\n",
    "translator = str.maketrans(string.punctuation, ' '*len(string.punctuation)) #map punctuation to space\n",
    "removed_punc_text = text.translate(translator).replace(\"'\",\" \").replace(\"’\",\" \") #remove punctuation and single quotation\n",
    "print(removed_punc_text)\n",
    "\n",
    "# calculate words frequency\n",
    "dict(Counter(removed_punc_text.split()))"
   ]
  },
  {
   "cell_type": "code",
   "execution_count": null,
   "metadata": {},
   "outputs": [],
   "source": []
  }
 ]
}